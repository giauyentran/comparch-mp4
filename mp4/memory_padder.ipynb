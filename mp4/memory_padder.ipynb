{
 "cells": [
  {
   "cell_type": "code",
   "execution_count": 9,
   "metadata": {},
   "outputs": [
    {
     "data": {
      "text/plain": [
       "['00000000001000000000000010010011\\n']"
      ]
     },
     "execution_count": 9,
     "metadata": {},
     "output_type": "execute_result"
    }
   ],
   "source": [
    "with open(\"test.txt\", \"r\") as f:\n",
    "    # gather the current command lines in test.txt\n",
    "    lines = f.readlines()\n",
    "\n",
    "lines = [line + \"\\n\" for line in lines]\n",
    "\n",
    "lines"
   ]
  },
  {
   "cell_type": "code",
   "execution_count": 14,
   "metadata": {},
   "outputs": [],
   "source": [
    "# determine by many lines of 32 zeros we need to add\n",
    "required_file_length = 2048 # 8kb\n",
    "num_lines = required_file_length - len(lines)\n",
    "\n",
    "lines_to_add = \"\".join([\"0\" * 32 + \"\\n\" for _ in range(num_lines)])"
   ]
  },
  {
   "cell_type": "code",
   "execution_count": 17,
   "metadata": {},
   "outputs": [],
   "source": [
    "write_text = \"\".join(lines) + lines_to_add\n",
    "\n",
    "with open(\"test.txt\", 'w') as f:\n",
    "    f.write(write_text)"
   ]
  }
 ],
 "metadata": {
  "kernelspec": {
   "display_name": "Python 3",
   "language": "python",
   "name": "python3"
  },
  "language_info": {
   "codemirror_mode": {
    "name": "ipython",
    "version": 3
   },
   "file_extension": ".py",
   "mimetype": "text/x-python",
   "name": "python",
   "nbconvert_exporter": "python",
   "pygments_lexer": "ipython3",
   "version": "3.12.9"
  }
 },
 "nbformat": 4,
 "nbformat_minor": 2
}
